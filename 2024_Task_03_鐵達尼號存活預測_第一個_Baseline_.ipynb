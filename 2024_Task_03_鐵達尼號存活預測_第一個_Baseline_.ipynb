{
  "nbformat": 4,
  "nbformat_minor": 0,
  "metadata": {
    "colab": {
      "provenance": [],
      "authorship_tag": "ABX9TyNli3u/pLIDXfhFI3qMSsty",
      "include_colab_link": true
    },
    "kernelspec": {
      "name": "python3",
      "display_name": "Python 3"
    },
    "language_info": {
      "name": "python"
    }
  },
  "cells": [
    {
      "cell_type": "markdown",
      "metadata": {
        "id": "view-in-github",
        "colab_type": "text"
      },
      "source": [
        "<a href=\"https://colab.research.google.com/github/ansal1202/titanic-analysis/blob/main/2024_Task_03_%E9%90%B5%E9%81%94%E5%B0%BC%E8%99%9F%E5%AD%98%E6%B4%BB%E9%A0%90%E6%B8%AC_%E7%AC%AC%E4%B8%80%E5%80%8B_Baseline_.ipynb\" target=\"_parent\"><img src=\"https://colab.research.google.com/assets/colab-badge.svg\" alt=\"Open In Colab\"/></a>"
      ]
    },
    {
      "cell_type": "code",
      "execution_count": 21,
      "metadata": {
        "colab": {
          "base_uri": "https://localhost:8080/"
        },
        "id": "unP-Gft6AhDE",
        "outputId": "ca7ccc10-05ed-44e7-c6d3-da0b8ac78e3e"
      },
      "outputs": [
        {
          "output_type": "stream",
          "name": "stdout",
          "text": [
            "[0.78212291 0.78651685 0.78089888 0.76404494 0.82022472]\n",
            "0.786761659657272\n"
          ]
        }
      ],
      "source": [
        "import pandas as pd\n",
        "import numpy as np\n",
        "\n",
        "df = pd.read_csv('https://raw.githubusercontent.com/dsindy/kaggle-titanic/master/data/train.csv')\n",
        "df.info\n",
        "df_train = df.copy()\n",
        "\n",
        "#計算缺失值\n",
        "missing_values_count = df.isnull().sum()\n",
        "\n",
        "# 刪除缺失值和多餘欄位\n",
        "# 'Cabin'缺失有687筆\n",
        "df_train.drop('Cabin', axis=1, inplace=True)\n",
        "# 存活率應該跟名字無關\n",
        "df_train.drop('Name', axis=1, inplace=True)\n",
        "# 存活率應該跟船票地編號無關\n",
        "df_train.drop('Ticket', axis=1, inplace=True)\n",
        "\n",
        "# 用中位數填補'Age'欄位的缺失值\n",
        "df_train['Age'].fillna(df_train['Age'].mean(), inplace=True)\n",
        "\n",
        "# 使用Label編碼將'Sex'和'Embarked'欄位轉換成數值型\n",
        "df_train['Sex'] = df_train['Sex'].map({'female': 0, 'male': 1})\n",
        "df_train['Embarked'] = df_train['Embarked'].map({'C': 0, 'Q': 1, 'S': 2})\n",
        "# 用中位數填補'Embarked'欄位的缺失值\n",
        "df_train['Embarked'].fillna(df_train['Embarked'].mean(), inplace=True)\n",
        "\n",
        "#定義特徵欄位X、目標欄位Y，並完成訓練集資料\n",
        "columns_X = list(set(df_train.columns) - {'Survived'})\n",
        "columns_y = ['Survived']\n",
        "\n",
        "train_X = df_train[columns_X]\n",
        "train_y = df_train[columns_y]\n",
        "\n",
        "#使用 Logistic Regression 模型，進行交叉驗證以評估準確度\n",
        "from sklearn.linear_model import LogisticRegression\n",
        "from sklearn.model_selection import cross_val_score\n",
        "\n",
        "log = LogisticRegression(random_state=0, max_iter=3000)\n",
        "scores = cross_val_score(log, train_X, train_y.values.ravel(),cv=5,scoring='accuracy')\n",
        "print(scores)\n",
        "print(scores.mean())"
      ]
    },
    {
      "cell_type": "markdown",
      "source": [
        "使用Logistic Regression交叉驗證後，Accuracy 平均值約為0.78"
      ],
      "metadata": {
        "id": "RWbiPZG-eQ6W"
      }
    }
  ]
}